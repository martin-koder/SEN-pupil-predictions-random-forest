{
 "cells": [
  {
   "cell_type": "code",
   "execution_count": 124,
   "metadata": {},
   "outputs": [],
   "source": [
    "import numpy as np\n",
    "import pandas as pd\n",
    "import matplotlib.pyplot as plt"
   ]
  },
  {
   "cell_type": "code",
   "execution_count": 125,
   "metadata": {},
   "outputs": [],
   "source": [
    "df=pd.read_csv('sch_lat_lon_df.csv') #import data file"
   ]
  },
  {
   "cell_type": "code",
   "execution_count": 126,
   "metadata": {},
   "outputs": [
    {
     "data": {
      "text/plain": [
       "Index(['Unnamed: 0', 'time_period', 'time_identifier', 'geographic_level',\n",
       "       'country_code', 'country_name', 'region_code', 'region_name',\n",
       "       'old_la_code', 'new_la_code', 'la_name', 'URN', 'estab', 'school_name',\n",
       "       'laestab', 'open_date', 'sex_of_school_description',\n",
       "       'phase_type_grouping', 'type_of_establishment', 'middle_school',\n",
       "       'all_through', 'hospital_school', 'denomination', 'admissions_policy',\n",
       "       'district_administrative_code', 'district_administrative_name',\n",
       "       'parlc_code', 'parlc_name', 'ward_code', 'ward_name', 'urban_rural',\n",
       "       'school_postcode', 'LSOA11', 'Total pupils', 'SEN support', 'EHC plan',\n",
       "       'EHC_Primary_need_spld', 'EHC_Primary_need_mld', 'EHC_Primary_need_sld',\n",
       "       'EHC_Primary_need_pmld', 'EHC_Primary_need_semh',\n",
       "       'EHC_Primary_need_slcn', 'EHC_Primary_need_hi', 'EHC_Primary_need_vi',\n",
       "       'EHC_Primary_need_msi', 'EHC_Primary_need_pd', 'EHC_Primary_need_asd',\n",
       "       'EHC_Primary_need_oth', 'EHC_Primary_need_nsa', 'SUP_Primary_need_spld',\n",
       "       'SUP_Primary_need_mld', 'SUP_Primary_need_sld', 'SUP_Primary_need_pmld',\n",
       "       'SUP_Primary_need_semh', 'SUP_Primary_need_slcn', 'SUP_Primary_need_hi',\n",
       "       'SUP_Primary_need_vi', 'SUP_Primary_need_msi', 'SUP_Primary_need_pd',\n",
       "       'SUP_Primary_need_asd', 'SUP_Primary_need_oth', 'SUP_Primary_need_nsa',\n",
       "       'Prov_SPLD', 'Prov_MLD', 'Prov_SLD', 'Prov_PMLD', 'Prov_SEMH',\n",
       "       'prov_slcn', 'prov_hi', 'prov_vi', 'prov_msi', 'prov_pd', 'prov_asd',\n",
       "       'prov_oth', 'SEN_Unit', 'RP_Unit', 'id', 'latitude', 'longitude'],\n",
       "      dtype='object')"
      ]
     },
     "execution_count": 126,
     "metadata": {},
     "output_type": "execute_result"
    }
   ],
   "source": [
    "df.columns # examine the features"
   ]
  },
  {
   "cell_type": "code",
   "execution_count": 127,
   "metadata": {},
   "outputs": [
    {
     "data": {
      "text/plain": [
       "(24304, 79)"
      ]
     },
     "execution_count": 127,
     "metadata": {},
     "output_type": "execute_result"
    }
   ],
   "source": [
    "df.shape#check the shape"
   ]
  },
  {
   "cell_type": "code",
   "execution_count": 129,
   "metadata": {},
   "outputs": [
    {
     "data": {
      "text/plain": [
       "array(['State-funded primary', 'Independent school',\n",
       "       'State-funded nursery', 'Pupil referral unit',\n",
       "       'State-funded special school', 'State-funded secondary',\n",
       "       'Non-maintained special school'], dtype=object)"
      ]
     },
     "execution_count": 129,
     "metadata": {},
     "output_type": "execute_result"
    }
   ],
   "source": [
    "df['phase_type_grouping'].unique() # look at home many different types of schools are represented"
   ]
  },
  {
   "cell_type": "code",
   "execution_count": 130,
   "metadata": {},
   "outputs": [
    {
     "data": {
      "text/plain": [
       "26"
      ]
     },
     "execution_count": 130,
     "metadata": {},
     "output_type": "execute_result"
    }
   ],
   "source": [
    "len(df['type_of_establishment'].unique())# look at home many different types of schools are represented"
   ]
  },
  {
   "cell_type": "markdown",
   "metadata": {},
   "source": [
    "Remove special types of schools likely to distort the data"
   ]
  },
  {
   "cell_type": "code",
   "execution_count": 131,
   "metadata": {},
   "outputs": [],
   "source": [
    "df=df[~df['type_of_establishment'].str.contains('special')]\n",
    "df=df[~df['type_of_establishment'].str.contains('Pupil referral unit')]\n",
    "df=df[~df['type_of_establishment'].str.contains('alternative')]\n",
    "df=df[~df['type_of_establishment'].str.contains('University technical college')]\n",
    "df=df[~df['type_of_establishment'].str.contains('Studio schools')]"
   ]
  },
  {
   "cell_type": "markdown",
   "metadata": {},
   "source": [
    "Further EDA looking at numbers of different types of schools"
   ]
  },
  {
   "cell_type": "code",
   "execution_count": 132,
   "metadata": {},
   "outputs": [
    {
     "name": "stdout",
     "output_type": "stream",
     "text": [
      "Voluntary aided school 2883\n",
      "Other independent school 1798\n",
      "Local authority nursery school 388\n",
      "Community school 6350\n",
      "Free schools 398\n",
      "Academy sponsor led 2269\n",
      "Academy converter 5726\n",
      "Academy 16-19 converter 29\n",
      "Foundation school 730\n",
      "Free schools 16 to 19 26\n",
      "Voluntary controlled school 1742\n",
      "City technology college 3\n",
      "Academy 16 to 19 sponsor led 1\n"
     ]
    }
   ],
   "source": [
    "for est_type in df['type_of_establishment'].unique():\n",
    "    print(est_type, len(df[df['type_of_establishment'].str.contains(est_type)]))"
   ]
  },
  {
   "cell_type": "markdown",
   "metadata": {},
   "source": [
    "Filter out more of the specialist types of schools"
   ]
  },
  {
   "cell_type": "code",
   "execution_count": 133,
   "metadata": {},
   "outputs": [],
   "source": [
    "df=df[~df['type_of_establishment'].str.contains('Academy 16-19 converter')]\n",
    "df=df[~df['type_of_establishment'].str.contains('City technology college')]\n",
    "df=df[~df['type_of_establishment'].str.contains('Academy 16 to 19 sponsor led')]\n",
    "df=df[~df['type_of_establishment'].str.contains('Free schools 16 to 19')]"
   ]
  },
  {
   "cell_type": "code",
   "execution_count": 134,
   "metadata": {},
   "outputs": [
    {
     "data": {
      "text/plain": [
       "Text(0.5, 1.0, 'Types of schools considered were reduced from 26 to 9 \\n')"
      ]
     },
     "execution_count": 134,
     "metadata": {},
     "output_type": "execute_result"
    },
    {
     "data": {
      "image/png": "[encoded data removed]",
      "text/plain": [
       "<Figure size 432x288 with 1 Axes>"
      ]
     },
     "metadata": {},
     "output_type": "display_data"
    }
   ],
   "source": [
    "plt.style.use('fivethirtyeight')\n",
    "schooltypes = []\n",
    "schoolnumbers = []\n",
    "for est_type in df['type_of_establishment'].unique():\n",
    "    schooltypes.append(est_type)\n",
    "    schoolnumbers.append(len(df[df['type_of_establishment'].str.contains(est_type)]))\n",
    "\n",
    "data_tuples = list(zip(schooltypes,schoolnumbers))\n",
    "df_for_plot = pd.DataFrame(data_tuples, index=schooltypes, columns=['est_type', 'Number'])\n",
    "df_for_plot= df_for_plot.sort_values(by=['Number'])\n",
    "df_for_plot.plot(kind='barh')\n",
    "plt.title('Types of schools considered were reduced from 26 to 9 \\n')"
   ]
  },
  {
   "cell_type": "markdown",
   "metadata": {},
   "source": [
    "Reduce down to core features"
   ]
  },
  {
   "cell_type": "code",
   "execution_count": 135,
   "metadata": {},
   "outputs": [],
   "source": [
    "df=df[['SEN support', 'EHC plan','URN', 'latitude', 'longitude', 'type_of_establishment', 'phase_type_grouping']]"
   ]
  },
  {
   "cell_type": "markdown",
   "metadata": {},
   "source": [
    "One hot encode the categorical features"
   ]
  },
  {
   "cell_type": "code",
   "execution_count": 136,
   "metadata": {},
   "outputs": [],
   "source": [
    "df_dummies=pd.get_dummies(df[['phase_type_grouping','type_of_establishment']])\n",
    "df=df.join(df_dummies)"
   ]
  },
  {
   "cell_type": "markdown",
   "metadata": {},
   "source": [
    "Load the dataset with pupil characteristics"
   ]
  },
  {
   "cell_type": "code",
   "execution_count": 138,
   "metadata": {},
   "outputs": [
    {
     "name": "stderr",
     "output_type": "stream",
     "text": [
      "C:\\Users\\marti\\Anaconda3\\lib\\site-packages\\IPython\\core\\interactiveshell.py:3058: DtypeWarning: Columns (15,17) have mixed types. Specify dtype option on import or set low_memory=False.\n",
      "  interactivity=interactivity, compiler=compiler, result=result)\n"
     ]
    }
   ],
   "source": [
    "df_ethnicity=pd.read_csv('spc_school_level_underlying_data.csv', encoding='latin-1')"
   ]
  },
  {
   "cell_type": "markdown",
   "metadata": {},
   "source": [
    "Select only certain columns"
   ]
  },
  {
   "cell_type": "code",
   "execution_count": 139,
   "metadata": {},
   "outputs": [],
   "source": [
    "df_ethnicity=df_ethnicity[['URN',\n",
    " 'Number of early year pupils (years E1 and E2)',\n",
    " 'Number of nursery pupils (years N1 and N2)',\n",
    " 'Number of reception pupils (year R)',\n",
    " 'Number of key stage 1 pupils (years 1 and 2)',\n",
    " 'Number of key stage 2 pupils (years 3 to 6)',\n",
    " 'Number of key stage 3 pupils (years 7 to 9)',\n",
    " 'Number of key stage 4 pupils (years 10 and 11)',\n",
    " 'Number of key stage 5 pupils (years 12 to 14)',\n",
    " 'Number of pupils not reception or key stage 1 to 5',\n",
    " 'headcount total girls',\n",
    " 'headcount total boys','number of FSM eligible pupils taking a free school meal on census day',\n",
    " '% of FSM eligible pupils taking free school meals',\n",
    " 'number of pupils known to be eligible for free school meals',\n",
    " '% of pupils known to be eligible for free school meals',\n",
    " 'Number of pupils (used for FSM calculation in Performance Tables)',\n",
    " 'number of pupils known to be eligible for free school meals (Performance Tables)',\n",
    " '% of pupils known to be eligible for free school meals (Performance Tables)',\n",
    " 'Infants taken a free school meal on census day',\n",
    " 'number of pupils classified as white British ethnic origin',\n",
    " '% of pupils classified as white British ethnic origin',\n",
    " 'number of pupils classified as Irish ethnic origin',\n",
    " '% of pupils classified as Irish ethnic origin',\n",
    " 'number of pupils classified as traveller of Irish heritage ethnic origin',\n",
    " '% of pupils classified as traveller of Irish heritage ethnic origin',\n",
    " 'number of pupils classified as any other white background ethnic origin',\n",
    " '% of pupils classified as any other white background ethnic origin',\n",
    " 'number of pupils classified as Gypsy/Roma ethnic origin',\n",
    " '% of pupils classified as Gypsy/Roma ethnic origin',\n",
    " 'number of pupils classified as white and black Caribbean ethnic origin',\n",
    " '% of pupils classified as white and black Caribbean ethnic origin',\n",
    " 'number of pupils classified as white and black African ethnic origin',\n",
    " '% of pupils classified as white and black African ethnic origin',\n",
    " 'number of pupils classified as white and Asian ethnic origin',\n",
    " '% of pupils classified as white and Asian ethnic origin',\n",
    " 'number of pupils classified as any other mixed background ethnic origin',\n",
    " '% of pupils classified as any other mixed background ethnic origin',\n",
    " 'number of pupils classified as Indian ethnic origin',\n",
    " '% of pupils classified as Indian ethnic origin',\n",
    " 'number of pupils classified as Pakistani ethnic origin',\n",
    " '% of pupils classified as Pakistani ethnic origin',\n",
    " 'number of pupils classified as Bangladeshi ethnic origin',\n",
    " '% of pupils classified as Bangladeshi ethnic origin',\n",
    " 'number of pupils classified as any other Asian background ethnic origin',\n",
    " '% of pupils classified as any other Asian background ethnic origin',\n",
    " 'number of pupils classified as Caribbean ethnic origin',\n",
    " '% of pupils classified as Caribbean ethnic origin',\n",
    " 'number of pupils classified as African ethnic origin',\n",
    " '% of pupils classified as African ethnic origin',\n",
    " 'number of pupils classified as any other black background ethnic origin',\n",
    " '% of pupils classified as any other black background ethnic origin',\n",
    " 'number of pupils classified as Chinese ethnic origin',\n",
    " '% of pupils classified as Chinese ethnic origin',\n",
    " 'number of pupils classified as any other ethnic group ethnic origin',\n",
    " '% of pupils classified as any other ethnic group ethnic origin',\n",
    " 'number of pupils unclassified',\n",
    " '% of pupils unclassified',\n",
    " 'number of pupils of compulsory school age and above (rounded)',\n",
    " 'number of pupils whose first language is known or believed to be English',\n",
    " '% of pupils whose first language is known or believed to be English',\n",
    " 'number of pupils whose first language is known or believed to be other than English',\n",
    " '% of pupils whose first language is known or believed to be other than English',\n",
    " 'number of pupils whose first language is unclassified',\n",
    " '% of pupils whose first language is unclassified']]"
   ]
  },
  {
   "cell_type": "markdown",
   "metadata": {},
   "source": [
    "Remove percentage columns, retain absolute number columns using regex"
   ]
  },
  {
   "cell_type": "code",
   "execution_count": 140,
   "metadata": {},
   "outputs": [],
   "source": [
    "df_ethnicity = df_ethnicity[df_ethnicity.columns.drop(list(df_ethnicity.filter(regex='%')))]"
   ]
  },
  {
   "cell_type": "code",
   "execution_count": 141,
   "metadata": {},
   "outputs": [
    {
     "data": {
      "text/plain": [
       "(24372, 40)"
      ]
     },
     "execution_count": 141,
     "metadata": {},
     "output_type": "execute_result"
    }
   ],
   "source": [
    "df_ethnicity.shape"
   ]
  },
  {
   "cell_type": "code",
   "execution_count": 143,
   "metadata": {},
   "outputs": [
    {
     "name": "stdout",
     "output_type": "stream",
     "text": [
      "(22258, 20)\n",
      "(24372, 40)\n"
     ]
    }
   ],
   "source": [
    "print(df.shape)\n",
    "print(df_ethnicity.shape)"
   ]
  },
  {
   "cell_type": "code",
   "execution_count": 144,
   "metadata": {},
   "outputs": [],
   "source": [
    "df_merged=pd.merge(df, df_ethnicity)#merge the dataframes"
   ]
  },
  {
   "cell_type": "markdown",
   "metadata": {},
   "source": [
    "Remove the NaNs masquarading as '..' strings"
   ]
  },
  {
   "cell_type": "code",
   "execution_count": 151,
   "metadata": {},
   "outputs": [],
   "source": [
    "df_merged=df_merged.replace('..',np.nan).dropna(axis = 0, how = 'any') # remove '..' missing values"
   ]
  },
  {
   "cell_type": "markdown",
   "metadata": {},
   "source": [
    "Change object type numbers to numeric"
   ]
  },
  {
   "cell_type": "code",
   "execution_count": 152,
   "metadata": {},
   "outputs": [],
   "source": [
    "df_merged['SEN support'] = df_merged['SEN support'].apply(pd.to_numeric, errors='coerce')   # force object type to numeric\n",
    "df_merged['EHC plan'] = df_merged['EHC plan'].apply(pd.to_numeric, errors='coerce')"
   ]
  },
  {
   "cell_type": "code",
   "execution_count": 153,
   "metadata": {},
   "outputs": [
    {
     "data": {
      "text/plain": [
       "0"
      ]
     },
     "execution_count": 153,
     "metadata": {},
     "output_type": "execute_result"
    }
   ],
   "source": [
    "df_merged.isna().values.sum() #check no NaNs are left"
   ]
  },
  {
   "cell_type": "code",
   "execution_count": 154,
   "metadata": {},
   "outputs": [],
   "source": [
    "df_merged=df_merged.drop(['type_of_establishment', 'phase_type_grouping'], axis=1)"
   ]
  },
  {
   "cell_type": "code",
   "execution_count": 156,
   "metadata": {},
   "outputs": [
    {
     "data": {
      "text/plain": [
       "(22254, 57)"
      ]
     },
     "execution_count": 156,
     "metadata": {},
     "output_type": "execute_result"
    }
   ],
   "source": [
    "df_merged.shape#check final shape"
   ]
  },
  {
   "cell_type": "code",
   "execution_count": 158,
   "metadata": {},
   "outputs": [],
   "source": [
    "df_merged.to_csv('df_merged_with_lat_lon_trimmed_with_ohe_school_types.csv')#Save file"
   ]
  }
 ],
 "metadata": {
  "kernelspec": {
   "display_name": "Python 3",
   "language": "python",
   "name": "python3"
  },
  "language_info": {
   "codemirror_mode": {
    "name": "ipython",
    "version": 3
   },
   "file_extension": ".py",
   "mimetype": "text/x-python",
   "name": "python",
   "nbconvert_exporter": "python",
   "pygments_lexer": "ipython3",
   "version": "3.7.4"
  }
 },
 "nbformat": 4,
 "nbformat_minor": 2
}
